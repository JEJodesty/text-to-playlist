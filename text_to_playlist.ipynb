{
 "cells": [
  {
   "cell_type": "markdown",
   "metadata": {},
   "source": [
    "### Imports"
   ]
  },
  {
   "cell_type": "code",
   "execution_count": 1,
   "metadata": {
    "collapsed": true,
    "scrolled": true
   },
   "outputs": [],
   "source": [
    "import os\n",
    "import spotipy\n",
    "import spotipy.util as util\n",
    "import pandas as pd\n",
    "import itertools\n",
    "import json\n",
    "from pprint import pprint\n",
    "from pipetools import pipe"
   ]
  },
  {
   "cell_type": "markdown",
   "metadata": {},
   "source": [
    "### Authentication"
   ]
  },
  {
   "cell_type": "code",
   "execution_count": 2,
   "metadata": {},
   "outputs": [],
   "source": [
    "data_file = open('auth_json.json')\n",
    "auth_json = json.load(data_file)\n",
    "\n",
    "username = auth_json['username']\n",
    "scope = auth_json['scope']\n",
    "client_id = auth_json['client_id']\n",
    "client_secret = auth_json['client_secret']\n",
    "redirect_uri = auth_json['redirect_uri']\n",
    "token = util.prompt_for_user_token(username, scope, client_id, client_secret, redirect_uri)\n",
    "sp = spotipy.Spotify(auth=token)"
   ]
  },
  {
   "cell_type": "markdown",
   "metadata": {},
   "source": [
    "### Helper Functions"
   ]
  },
  {
   "cell_type": "code",
   "execution_count": 3,
   "metadata": {
    "collapsed": true
   },
   "outputs": [],
   "source": [
    "def remove_key(d, key):\n",
    "    r = dict(d)\n",
    "    del r[key]\n",
    "    return r\n",
    "\n",
    "def merge_two_dicts(x, y):\n",
    "    \"\"\"Given two dicts, merge them into a new dict as a shallow copy.\"\"\"\n",
    "    z = x.copy()\n",
    "    z.update(y)\n",
    "    return z\n",
    "\n",
    "def rename_dict_key(x, y):\n",
    "    def f(d): \n",
    "        d[y] = d.pop(x)\n",
    "        return d\n",
    "    return f\n",
    "\n",
    "def dict_filter(cols, pipe):\n",
    "    def _filter(x):\n",
    "        key_filter = {k: x[k] for k in cols}\n",
    "        filtered = pipe(key_filter)\n",
    "        return filtered   \n",
    "    return _filter\n",
    "\n",
    "def replace_value(d, key_to_find, definition):\n",
    "    for key in d.keys():\n",
    "        if key == key_to_find:\n",
    "            d[key] = definition\n",
    "    return d\n",
    "\n",
    "def list_to_str(d, key, sep):\n",
    "    str_genres = sep.join(d[key])\n",
    "    return replace_value(d, key, str_genres)\n",
    "\n",
    "def toDF(df): return pd.DataFrame(df, index=[0])"
   ]
  },
  {
   "cell_type": "markdown",
   "metadata": {},
   "source": [
    "### Dictionary Renaming Pipelines"
   ]
  },
  {
   "cell_type": "code",
   "execution_count": 4,
   "metadata": {
    "collapsed": true
   },
   "outputs": [],
   "source": [
    "def r_name(x): return rename_dict_key(\"name\", x+\"_name\")\n",
    "def r_id(x): return rename_dict_key(\"id\", x+\"_id\")\n",
    "def r_uri(x): return rename_dict_key(\"uri\", x+\"_uri\")\n",
    "def r_type(x): return rename_dict_key(\"type\", x+\"_type\")\n",
    "def r_pop(x): return rename_dict_key(\"popularity\", x+\"_popularity\")\n",
    "def r_href(x): return rename_dict_key(\"href\", x+\"_href\")\n",
    "def uri_r_pop(x): return rename_dict_key(\"popularity\", x+\"_popularity\")\n",
    "def uri_r_genres(x): return rename_dict_key(\"genres\", x+\"_genres\")\n",
    "\n",
    "def parent_r_pipe(x): return pipe | r_name(x) | r_uri(x) | r_type(x) | r_pop(x) | r_href(x)\n",
    "def child_r_pipe(x): return pipe | r_name(x) | r_id(x) | r_uri(x) | r_type(x) | r_href(x)\n",
    "def uri_r_pipe(x): return pipe | uri_r_pop(x) | uri_r_genres(x)\n",
    "\n",
    "def uri_rename(d, d_type, cols):\n",
    "    d_uri = sp\n",
    "    if d_type == \"artist\": \n",
    "        d_uri = sp.artist(d[d_type+'_uri']) \n",
    "    else: d_uri = sp.album(d[d_type+'_uri'])\n",
    "    d_xs = {k: d_uri[k] for k in cols}\n",
    "    d = merge_two_dicts(d, d_xs)\n",
    "    return uri_r_pipe(d_type)(d)"
   ]
  },
  {
   "cell_type": "markdown",
   "metadata": {},
   "source": [
    "### Spotify Web API Call Processor"
   ]
  },
  {
   "cell_type": "code",
   "execution_count": 5,
   "metadata": {
    "collapsed": true,
    "scrolled": false
   },
   "outputs": [],
   "source": [
    "tracks_keys = ['name', 'explicit', 'popularity', 'disc_number', 'uri', 'type', 'duration_ms', 'href']\n",
    "artists_keys = ['name', 'type', 'id', 'uri', 'href']\n",
    "albums_keys = ['name', 'type', 'id', 'uri','album_type','href']\n",
    "\n",
    "def process_dict(search, tracks_keys, artists_keys, albums_keys):\n",
    "    result = pd.DataFrame()\n",
    "    if search[\"tracks\"]['total'] != 0:\n",
    "        d = search[\"tracks\"][\"items\"]\n",
    "        f = dict_filter(tracks_keys, parent_r_pipe(\"track\"))\n",
    "        g = dict_filter(artists_keys, child_r_pipe(\"artist\"))\n",
    "        z = dict_filter(albums_keys, child_r_pipe(\"album\"))\n",
    "\n",
    "        tracks_d = [f(x) for x in d]\n",
    "        artists_d = [g(x[\"artists\"][0]) for x in d]\n",
    "        artists_d = [uri_rename(x, \"artist\", ['popularity', 'genres']) for x in artists_d]\n",
    "        artists_d = [list_to_str(x, \"artist_genres\", \", \") for x in artists_d]\n",
    "        albums_d = [z(x[\"album\"]) for x in d]\n",
    "        albums_d = [uri_rename(x, \"album\", ['popularity', 'genres']) for x in albums_d]\n",
    "        albums_d = [list_to_str(x, \"album_genres\", \", \") for x in albums_d]\n",
    "\n",
    "        tracks_dfs = [toDF(x) for x in tracks_d]\n",
    "        artists_dfs = [toDF(x) for x in artists_d]\n",
    "        albums_dfs = [toDF(x) for x in albums_d]\n",
    "\n",
    "        tracks_df = pd.concat(tracks_dfs)\n",
    "        artists_df = pd.concat(artists_dfs)\n",
    "        albums_df = pd.concat(albums_dfs)\n",
    "        df = pd.concat([tracks_df, artists_df, albums_df], axis=1)\n",
    "        result = df[['track_uri', 'album_uri', 'artist_uri',  \n",
    "                    'track_name', 'album_name', 'artist_name', \n",
    "                    'album_genres', 'artist_genres', 'duration_ms', 'explicit', \n",
    "                    'track_popularity', 'artist_popularity', 'album_popularity',\n",
    "                    'track_type', 'album_type', 'artist_type']]\n",
    "    else: result\n",
    "    return result\n",
    "\n",
    "def process(search): \n",
    "    return process_dict(search, tracks_keys, artists_keys, albums_keys)"
   ]
  },
  {
   "cell_type": "markdown",
   "metadata": {},
   "source": [
    "### Text Parser"
   ]
  },
  {
   "cell_type": "code",
   "execution_count": 6,
   "metadata": {
    "collapsed": true
   },
   "outputs": [],
   "source": [
    "flatten = lambda l: [item for sublist in l for item in sublist]\n",
    "\n",
    "def word_count(phrase, max_words):\n",
    "    phrase_count = len(phrase.split(\" \"))\n",
    "    res = \"\"\n",
    "    if phrase_count != max_words: res = \"!=\"+str(max_words)\n",
    "    else: res = phrase\n",
    "    return res\n",
    "\n",
    "def get_phrases(text):\n",
    "    words = text.split()\n",
    "    ns = range(1, len(words)) # n = 1...(n-1)\n",
    "    phrases = []\n",
    "    for n in ns: # split into 2, 3, 4, ..., n parts.\n",
    "        for idxs in itertools.combinations(ns, n):\n",
    "            phrases += [\n",
    "                [ x for x in [\n",
    "                    word_count(phrase, 3) for phrase in [\n",
    "                        ' '.join(words[i:j]) for i, j in zip((0,) + idxs, idxs + (None,))\n",
    "                    ]\n",
    "                ] if \"!=3\" not in x ]\n",
    "            ]      \n",
    "    return list(set(flatten(phrases)))"
   ]
  },
  {
   "cell_type": "markdown",
   "metadata": {},
   "source": [
    "### Main Method: text_to_playlist"
   ]
  },
  {
   "cell_type": "code",
   "execution_count": 7,
   "metadata": {
    "collapsed": true
   },
   "outputs": [],
   "source": [
    "def text_to_playlist(text, playlist_name=\"Text2Playlist\"):\n",
    "    phrases = get_phrases(text)\n",
    "    print(\"Phrases from '\"+text+\"':\")\n",
    "    for phrase in phrases: print(phrase)\n",
    "    \n",
    "    searches = []\n",
    "    while True:\n",
    "         try:\n",
    "             searches = [sp.search(phrase) for phrase in phrases]\n",
    "             break\n",
    "         except SpotifyException:\n",
    "             pass\n",
    "    result = pd.concat([process(search) for search in searches]\n",
    "                   ).drop_duplicates(subset=['track_uri'])\n",
    "    \n",
    "    playlist = sp.user_playlist_create(username, playlist_name, public=True)\n",
    "    playlist_id = playlist['id']\n",
    "    tracks = result['track_uri']\n",
    "    snapshot = sp.user_playlist_add_tracks(username, playlist_id, tracks)\n",
    "    playlist_url = sp.user_playlists(username)[\"items\"][0]['external_urls']['spotify']\n",
    "    print(\"\\n\")\n",
    "    print(\"Playlist '\"+playlist_name+\"' URL: \"+playlist_url)"
   ]
  },
  {
   "cell_type": "markdown",
   "metadata": {},
   "source": [
    "### Validation"
   ]
  },
  {
   "cell_type": "code",
   "execution_count": 8,
   "metadata": {},
   "outputs": [
    {
     "name": "stdout",
     "output_type": "stream",
     "text": [
      "Phrases from 'if i can't let it go out of my mind':\n",
      "go out of\n",
      "can't let it\n",
      "of my mind\n",
      "if i can't\n",
      "i can't let\n",
      "out of my\n",
      "let it go\n",
      "it go out\n",
      "\n",
      "\n",
      "Playlist 'Text2Playlist' URL: http://open.spotify.com/user/joshej07/playlist/7kDXe7RglYSNoVhiKdOMzV\n"
     ]
    }
   ],
   "source": [
    "poem = \"if i can't let it go out of my mind\"    \n",
    "text_to_playlist(poem)"
   ]
  }
 ],
 "metadata": {
  "kernelspec": {
   "display_name": "Python 3",
   "language": "python",
   "name": "python3"
  },
  "language_info": {
   "codemirror_mode": {
    "name": "ipython",
    "version": 3
   },
   "file_extension": ".py",
   "mimetype": "text/x-python",
   "name": "python",
   "nbconvert_exporter": "python",
   "pygments_lexer": "ipython3",
   "version": "3.5.2"
  }
 },
 "nbformat": 4,
 "nbformat_minor": 2
}
